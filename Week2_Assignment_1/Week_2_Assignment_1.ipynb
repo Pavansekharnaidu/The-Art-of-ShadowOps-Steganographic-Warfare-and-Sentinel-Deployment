{
  "nbformat": 4,
  "nbformat_minor": 0,
  "metadata": {
    "colab": {
      "provenance": []
    },
    "kernelspec": {
      "name": "python3",
      "display_name": "Python 3"
    },
    "language_info": {
      "name": "python"
    }
  },
  "cells": [
    {
      "cell_type": "code",
      "execution_count": null,
      "metadata": {
        "colab": {
          "base_uri": "https://localhost:8080/",
          "height": 510
        },
        "id": "SNKtyoaVwHec",
        "outputId": "3a08c44e-d764-4c90-94b9-7b010b0f192b"
      },
      "outputs": [
        {
          "output_type": "stream",
          "name": "stdout",
          "text": [
            "Downloading data from https://storage.googleapis.com/tensorflow/tf-keras-datasets/mnist.npz\n",
            "11490434/11490434 [==============================] - 0s 0us/step\n",
            "X_train: (60000, 28, 28)\n",
            "Y_train: (60000,)\n",
            "X_test:  (10000, 28, 28)\n",
            "Y_test:  (10000,)\n"
          ]
        },
        {
          "output_type": "display_data",
          "data": {
            "text/plain": [
              "<Figure size 640x480 with 9 Axes>"
            ],
            "image/png": "[encoded data removed]"
          },
          "metadata": {}
        }
      ],
      "source": [
        "from keras.datasets import mnist\n",
        "from matplotlib import pyplot\n",
        "\n",
        "# Loading the dataset\n",
        "(train_X, train_y), (test_X, test_y) = mnist.load_data()\n",
        "\n",
        "# Displaying the shape of the dataset\n",
        "print('X_train: ' + str(train_X.shape))\n",
        "print('Y_train: ' + str(train_y.shape))\n",
        "print('X_test:  '  + str(test_X.shape))\n",
        "print('Y_test:  '  + str(test_y.shape))\n",
        "\n",
        "# Plotting the first 9 images\n",
        "for i in range(9):\n",
        "    pyplot.subplot(330 + 1 + i)\n",
        "    pyplot.imshow(train_X[i], cmap='gray')\n",
        "    pyplot.axis('off')  # Turn off the axis\n",
        "\n",
        "pyplot.show()  # Show all the images in a single plot\n"
      ]
    },
    {
      "cell_type": "code",
      "source": [
        "x_train_flat = train_X.reshape(train_X.shape[0], -1) / 255.0\n",
        "x_test_flat = test_X.reshape(test_X.shape[0], -1) / 255.0\n",
        "\n",
        "x_train_flat.shape"
      ],
      "metadata": {
        "id": "UqcMSKVtFOBw",
        "colab": {
          "base_uri": "https://localhost:8080/"
        },
        "outputId": "de45b75f-35f8-482f-bd85-72d3ce98ae35"
      },
      "execution_count": 4,
      "outputs": [
        {
          "output_type": "execute_result",
          "data": {
            "text/plain": [
              "(60000, 784)"
            ]
          },
          "metadata": {},
          "execution_count": 4
        }
      ]
    },
    {
      "cell_type": "code",
      "source": [
        "x_test_flat.shape\n"
      ],
      "metadata": {
        "id": "WjnzEPKLwMyN",
        "colab": {
          "base_uri": "https://localhost:8080/"
        },
        "outputId": "f4e08d42-093f-4e52-d531-81b33adfd626"
      },
      "execution_count": 7,
      "outputs": [
        {
          "output_type": "execute_result",
          "data": {
            "text/plain": [
              "(10000, 784)"
            ]
          },
          "metadata": {},
          "execution_count": 7
        }
      ]
    },
    {
      "cell_type": "code",
      "source": [
        "import numpy as np\n",
        "x_mean = np.mean(x_train_flat, axis=0)\n",
        "x_mean_test = np.mean(x_test_flat,axis = 0)\n",
        "data_centered = x_train_flat - x_mean\n",
        "data_centered_test = x_test_flat-x_mean_test\n",
        "cov_matrix = np.cov(data_centered, rowvar=False)\n",
        "\n",
        "\n",
        "\n",
        "eigen_values,eigen_vectors = np.linalg.eigh(cov_matrix)\n",
        "eigen_vectors.shape\n",
        "eigen_values.shape\n",
        "\n"
      ],
      "metadata": {
        "colab": {
          "base_uri": "https://localhost:8080/"
        },
        "id": "73YCYyoXHu_i",
        "outputId": "6b0c253d-3d3b-4b5a-ce61-fdbd42730ec4"
      },
      "execution_count": 43,
      "outputs": [
        {
          "output_type": "execute_result",
          "data": {
            "text/plain": [
              "(784,)"
            ]
          },
          "metadata": {},
          "execution_count": 43
        }
      ]
    },
    {
      "cell_type": "code",
      "source": [
        "sorted_indices = np.argsort(eigen_values)[::-1]\n",
        "eigen_vectors = eigen_vectors[:, sorted_indices]\n",
        "\n",
        "res_dimensions = eigen_vectors[:,:150]\n",
        "\n",
        "transformed_data_train = np.dot(data_centered,res_dimensions)\n",
        "transformed_data_test = np.dot(data_centered_test,res_dimensions)\n",
        "transformed_data_train.shape"
      ],
      "metadata": {
        "colab": {
          "base_uri": "https://localhost:8080/"
        },
        "id": "EtSWqSPLH9Z2",
        "outputId": "25f571bc-86bb-4b72-e3cd-46f9968a84da"
      },
      "execution_count": 44,
      "outputs": [
        {
          "output_type": "execute_result",
          "data": {
            "text/plain": [
              "(60000, 150)"
            ]
          },
          "metadata": {},
          "execution_count": 44
        }
      ]
    },
    {
      "cell_type": "code",
      "source": [
        "from sklearn.decomposition import PCA\n",
        "pca = PCA(n_components = 150).fit(x_train_flat)\n",
        "x_train_pca = pca.transform(x_train_flat)\n",
        "x_test_pca = pca.transform(x_test_flat)\n",
        "\n",
        "x_test_pca.shape"
      ],
      "metadata": {
        "colab": {
          "base_uri": "https://localhost:8080/"
        },
        "id": "xOcEUHnbMrKi",
        "outputId": "51d7f6e8-2fb8-4e89-a2f8-298b3666c5aa"
      },
      "execution_count": 37,
      "outputs": [
        {
          "output_type": "execute_result",
          "data": {
            "text/plain": [
              "(10000, 150)"
            ]
          },
          "metadata": {},
          "execution_count": 37
        }
      ]
    },
    {
      "cell_type": "code",
      "source": [
        "from sklearn.svm import SVC\n",
        "from sklearn.metrics import classification_report,confusion_matrix\n",
        "from sklearn.metrics import ConfusionMatrixDisplay"
      ],
      "metadata": {
        "id": "tl3CgkYNPJ85"
      },
      "execution_count": 38,
      "outputs": []
    },
    {
      "cell_type": "code",
      "source": [
        "clf = SVC(kernel='rbf',class_weight = 'balanced')"
      ],
      "metadata": {
        "id": "Z4Nd5W0sP5TI"
      },
      "execution_count": 40,
      "outputs": []
    },
    {
      "cell_type": "code",
      "source": [
        "#scoring the pca transformed data\n",
        "clf.fit(x_train_pca,train_y)\n",
        "clf.score(x_test_pca,test_y)"
      ],
      "metadata": {
        "colab": {
          "base_uri": "https://localhost:8080/"
        },
        "id": "DTNrQQd_QEiD",
        "outputId": "a9202f1f-f7c2-47f7-95cb-45b657cebe9e"
      },
      "execution_count": 45,
      "outputs": [
        {
          "output_type": "execute_result",
          "data": {
            "text/plain": [
              "0.9831"
            ]
          },
          "metadata": {},
          "execution_count": 45
        }
      ]
    },
    {
      "cell_type": "code",
      "source": [
        "clf.fit(transformed_data_train,train_y)\n",
        "clf.score(transformed_data_test,test_y)"
      ],
      "metadata": {
        "colab": {
          "base_uri": "https://localhost:8080/"
        },
        "id": "YVW67GGAQPws",
        "outputId": "b6bff91e-25ce-4c92-8234-7a2531d015a3"
      },
      "execution_count": 47,
      "outputs": [
        {
          "output_type": "execute_result",
          "data": {
            "text/plain": [
              "0.9827"
            ]
          },
          "metadata": {},
          "execution_count": 47
        }
      ]
    },
    {
      "cell_type": "code",
      "source": [
        "import matplotlib.pyplot as plt\n",
        "\n",
        "reconstructed_images = pca.inverse_transform(transformed_data_train)\n",
        "\n",
        "reconstructed_images = reconstructed_images.reshape((-1, 28, 28))\n",
        "\n",
        "plt.figure(figsize=(10, 7))\n",
        "for i in range(9):\n",
        "    plt.subplot(3, 3, i + 1)\n",
        "    plt.imshow(reconstructed_images[i], cmap='gray')\n",
        "    plt.axis('off')\n",
        "plt.suptitle('Reconstructed Images after PCA', fontsize=16)\n",
        "plt.tight_layout()\n",
        "plt.show()\n"
      ],
      "metadata": {
        "id": "1frpwpIXU3J8",
        "outputId": "1c750361-cde5-4e05-acf7-2becce7bffa0",
        "colab": {
          "base_uri": "https://localhost:8080/",
          "height": 708
        }
      },
      "execution_count": 49,
      "outputs": [
        {
          "output_type": "display_data",
          "data": {
            "text/plain": [
              "<Figure size 1000x700 with 9 Axes>"
            ],
            "image/png": "[encoded data removed]"
          },
          "metadata": {}
        }
      ]
    }
  ]
}