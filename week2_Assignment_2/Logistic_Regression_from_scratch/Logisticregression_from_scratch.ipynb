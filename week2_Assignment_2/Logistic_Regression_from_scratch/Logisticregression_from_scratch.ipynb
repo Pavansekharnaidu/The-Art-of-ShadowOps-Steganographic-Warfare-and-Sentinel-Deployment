{
  "cells": [
    {
      "cell_type": "code",
      "execution_count": 1,
      "metadata": {
        "id": "3BOOO-Tl-ytc"
      },
      "outputs": [],
      "source": [
        "import numpy as np\n",
        "from sklearn.datasets import make_blobs\n",
        "from sklearn.model_selection import train_test_split\n",
        "from sklearn.linear_model import LogisticRegression\n",
        "\n",
        "class custom_model():\n",
        "  def __init__(self,X,learning_rate = 0.1,num_iters = 10000):\n",
        "    self.lr = learning_rate\n",
        "    self.num_iters = num_iters\n",
        "    self.w = np.zeros(X.shape[1])\n",
        "    self.b = 0\n",
        "    self.m,self.n = X.shape\n",
        "    pass\n",
        "\n",
        "  def train(self,X,y):\n",
        "    for i in range(self.num_iters):\n",
        "      z = np.dot(X,self.w) + self.b\n",
        "      a = self.sigmoid(z)\n",
        "      dw = (1/self.m)*np.dot(X.T,(a-y))  #This is cost function gradient\n",
        "      self.w -= self.lr*dw\n",
        "      db = (1/self.m)*np.sum(a-y)\n",
        "      self.b -= self.lr*db\n",
        "    pass\n",
        "\n",
        "  def predict(self,X):\n",
        "    z = np.dot(X,self.w) + self.b\n",
        "    a = self.sigmoid(z)\n",
        "    y_pred = np.where(a>0.5,1,0)\n",
        "    return y_pred\n",
        "\n",
        "    pass\n",
        "\n",
        "  def sigmoid(self,z):\n",
        "    return 1/(1+np.exp(-z))\n",
        "\n",
        "  def accuracy(self,y_pred,y):\n",
        "    return np.sum(y_pred==y)/len(y)"
      ]
    },
    {
      "cell_type": "code",
      "execution_count": 5,
      "metadata": {
        "colab": {
          "base_uri": "https://localhost:8080/"
        },
        "id": "mIBvalcMEoDr",
        "outputId": "54aabb38-3a7d-42a3-9acd-273550a7863e"
      },
      "outputs": [
        {
          "name": "stdout",
          "output_type": "stream",
          "text": [
            "accuracy score from custom model :  0.9\n",
            "accuracy score from inbuilt model :  0.9\n"
          ]
        }
      ],
      "source": [
        "if __name__ == \"__main__\":\n",
        "  X,y = make_blobs(n_samples=100,n_features=2,centers=2,random_state=0)\n",
        "\n",
        "\n",
        "  X_train, X_test, y_train, y_test = train_test_split(X, y, test_size=0.2, random_state=42)\n",
        "\n",
        "  model = custom_model(X_train)\n",
        "  model.train(X_train,y_train)\n",
        "\n",
        "  y_pred = model.predict(X_test)\n",
        "\n",
        "  print(\"accuracy score from custom model : \" ,model.accuracy(y_pred,y_test))\n",
        "\n",
        "\n",
        "  model = LogisticRegression()\n",
        "  model.fit(X_train,y_train)\n",
        "  y_pred = model.predict(X_test)\n",
        "  print(\"accuracy score from inbuilt model : \",model.score(X_test,y_test))\n"
      ]
    }
  ],
  "metadata": {
    "colab": {
      "provenance": []
    },
    "kernelspec": {
      "display_name": "Python 3",
      "name": "python3"
    },
    "language_info": {
      "codemirror_mode": {
        "name": "ipython",
        "version": 3
      },
      "file_extension": ".py",
      "mimetype": "text/x-python",
      "name": "python",
      "nbconvert_exporter": "python",
      "pygments_lexer": "ipython3",
      "version": "3.11.5"
    }
  },
  "nbformat": 4,
  "nbformat_minor": 0
}
