{
  "nbformat": 4,
  "nbformat_minor": 0,
  "metadata": {
    "colab": {
      "provenance": []
    },
    "kernelspec": {
      "name": "python3",
      "display_name": "Python 3"
    },
    "language_info": {
      "name": "python"
    }
  },
  "cells": [
    {
      "cell_type": "code",
      "execution_count": 109,
      "metadata": {
        "colab": {
          "base_uri": "https://localhost:8080/"
        },
        "id": "TamTca4mbjPb",
        "outputId": "4436b8a9-4754-4ada-f6a6-1f5f5478151c"
      },
      "outputs": [
        {
          "output_type": "stream",
          "name": "stdout",
          "text": [
            "X_train.shape =  (120, 4)\n",
            "X_test.shape =  (30, 4)\n",
            "y_train.shape =  (120,)\n",
            "y_test.shape =  (30,)\n"
          ]
        }
      ],
      "source": [
        "from sklearn.model_selection import train_test_split\n",
        "from sklearn.preprocessing import StandardScaler\n",
        "from sklearn.datasets import load_iris\n",
        "import numpy as np\n",
        "\n",
        "# Loading the Iris dataset\n",
        "iris = load_iris()\n",
        "X = iris.data\n",
        "y = iris.target\n",
        "\n",
        "# Splitting the dataset into training and testing sets\n",
        "X_train, X_test, y_train, y_test = train_test_split(X, y, test_size=0.2, random_state=42)\n",
        "\n",
        "# Standardizing the features\n",
        "scaler = StandardScaler()\n",
        "X_train = scaler.fit_transform(X_train)\n",
        "X_test = scaler.transform(X_test)\n",
        "\n",
        "print('X_train.shape = ', X_train.shape)\n",
        "print('X_test.shape = ', X_test.shape)\n",
        "print('y_train.shape = ', y_train.shape)\n",
        "print('y_test.shape = ', y_test.shape)"
      ]
    },
    {
      "cell_type": "code",
      "source": [
        "from tensorflow.keras.models import Sequential\n",
        "from tensorflow.keras.layers import Dense, Input\n",
        "\n",
        "input_shape = X_train.shape[1]\n",
        "output_shape = len(np.unique(y_train))\n",
        "\n",
        "model1 = Sequential()\n",
        "\n",
        "model1.add(Input(shape=(input_shape,)))\n",
        "\n",
        "model1.add(Dense(units=64, activation='relu', input_dim=input_shape))\n",
        "model1.add(Dense(units=32, activation='relu'))\n",
        "\n",
        "model1.add(Dense(units=output_shape, activation='softmax'))\n",
        "\n",
        "model1.compile(loss='sparse_categorical_crossentropy', metrics=['accuracy'])\n",
        "\n",
        "model1.summary()"
      ],
      "metadata": {
        "colab": {
          "base_uri": "https://localhost:8080/"
        },
        "id": "sXySxpbvsSdy",
        "outputId": "5eb9a867-bcd3-4390-a876-c3560cd7a026"
      },
      "execution_count": 110,
      "outputs": [
        {
          "output_type": "stream",
          "name": "stdout",
          "text": [
            "Model: \"sequential_21\"\n",
            "_________________________________________________________________\n",
            " Layer (type)                Output Shape              Param #   \n",
            "=================================================================\n",
            " dense_70 (Dense)            (None, 64)                320       \n",
            "                                                                 \n",
            " dense_71 (Dense)            (None, 32)                2080      \n",
            "                                                                 \n",
            " dense_72 (Dense)            (None, 3)                 99        \n",
            "                                                                 \n",
            "=================================================================\n",
            "Total params: 2499 (9.76 KB)\n",
            "Trainable params: 2499 (9.76 KB)\n",
            "Non-trainable params: 0 (0.00 Byte)\n",
            "_________________________________________________________________\n"
          ]
        }
      ]
    },
    {
      "cell_type": "code",
      "source": [
        "from tensorflow.keras.models import Sequential\n",
        "from tensorflow.keras.layers import Dense, Input\n",
        "\n",
        "input_shape = X_train.shape[1]\n",
        "output_shape = len(np.unique(y_train))\n",
        "\n",
        "model2 = Sequential()\n",
        "\n",
        "model2.add(Input(shape=(input_shape,)))\n",
        "\n",
        "model2.add(Dense(units=64, activation='relu', input_dim=input_shape))\n",
        "model2.add(Dense(units=32, activation='relu'))\n",
        "model2.add(Dense(units=16, activation='relu'))\n",
        "\n",
        "model2.add(Dense(units=output_shape, activation='softmax'))\n",
        "\n",
        "model2.compile(optimizer='adam', loss='sparse_categorical_crossentropy', metrics=['accuracy'])\n",
        "\n",
        "model2.summary()"
      ],
      "metadata": {
        "colab": {
          "base_uri": "https://localhost:8080/"
        },
        "id": "wr85glnIeDv8",
        "outputId": "c1982009-767b-4ab6-a973-f06a39066c17"
      },
      "execution_count": 111,
      "outputs": [
        {
          "output_type": "stream",
          "name": "stdout",
          "text": [
            "Model: \"sequential_22\"\n",
            "_________________________________________________________________\n",
            " Layer (type)                Output Shape              Param #   \n",
            "=================================================================\n",
            " dense_73 (Dense)            (None, 64)                320       \n",
            "                                                                 \n",
            " dense_74 (Dense)            (None, 32)                2080      \n",
            "                                                                 \n",
            " dense_75 (Dense)            (None, 16)                528       \n",
            "                                                                 \n",
            " dense_76 (Dense)            (None, 3)                 51        \n",
            "                                                                 \n",
            "=================================================================\n",
            "Total params: 2979 (11.64 KB)\n",
            "Trainable params: 2979 (11.64 KB)\n",
            "Non-trainable params: 0 (0.00 Byte)\n",
            "_________________________________________________________________\n"
          ]
        }
      ]
    },
    {
      "cell_type": "markdown",
      "source": [
        "Here parameters are sum of weights and bias"
      ],
      "metadata": {
        "id": "e8H9VCzNf6_0"
      }
    },
    {
      "cell_type": "code",
      "source": [
        "from tensorflow.keras.utils import plot_model\n",
        "plot_model(model1, show_shapes=True, show_layer_names=True)"
      ],
      "metadata": {
        "colab": {
          "base_uri": "https://localhost:8080/",
          "height": 422
        },
        "id": "_K8hZR0SfIMJ",
        "outputId": "da79ac69-7a55-41be-9e30-76a2a793728b"
      },
      "execution_count": 112,
      "outputs": [
        {
          "output_type": "execute_result",
          "data": {
            "image/png": "[encoded data removed]",
            "text/plain": [
              "<IPython.core.display.Image object>"
            ]
          },
          "metadata": {},
          "execution_count": 112
        }
      ]
    },
    {
      "cell_type": "code",
      "source": [
        "plot_model(model2, show_shapes=True, show_layer_names=True)"
      ],
      "metadata": {
        "colab": {
          "base_uri": "https://localhost:8080/",
          "height": 533
        },
        "id": "N3b1xEPoslIl",
        "outputId": "9b754f2b-a87f-46ed-ef05-fe1fbb95339a"
      },
      "execution_count": 113,
      "outputs": [
        {
          "output_type": "execute_result",
          "data": {
            "image/png": "[encoded data removed]",
            "text/plain": [
              "<IPython.core.display.Image object>"
            ]
          },
          "metadata": {},
          "execution_count": 113
        }
      ]
    },
    {
      "cell_type": "code",
      "source": [
        "model1.fit(X_train, y_train, epochs=30, batch_size=32)"
      ],
      "metadata": {
        "colab": {
          "base_uri": "https://localhost:8080/"
        },
        "id": "UwW6buoPgBLW",
        "outputId": "4bed10c3-a53d-455e-a093-4b8b22958e7b"
      },
      "execution_count": 114,
      "outputs": [
        {
          "output_type": "stream",
          "name": "stdout",
          "text": [
            "Epoch 1/30\n",
            "4/4 [==============================] - 1s 8ms/step - loss: 1.0715 - accuracy: 0.4667\n",
            "Epoch 2/30\n",
            "4/4 [==============================] - 0s 7ms/step - loss: 0.9162 - accuracy: 0.6000\n",
            "Epoch 3/30\n",
            "4/4 [==============================] - 0s 7ms/step - loss: 0.8217 - accuracy: 0.6833\n",
            "Epoch 4/30\n",
            "4/4 [==============================] - 0s 10ms/step - loss: 0.7478 - accuracy: 0.6750\n",
            "Epoch 5/30\n",
            "4/4 [==============================] - 0s 6ms/step - loss: 0.6883 - accuracy: 0.6833\n",
            "Epoch 6/30\n",
            "4/4 [==============================] - 0s 5ms/step - loss: 0.6354 - accuracy: 0.7000\n",
            "Epoch 7/30\n",
            "4/4 [==============================] - 0s 6ms/step - loss: 0.5894 - accuracy: 0.7167\n",
            "Epoch 8/30\n",
            "4/4 [==============================] - 0s 6ms/step - loss: 0.5508 - accuracy: 0.8167\n",
            "Epoch 9/30\n",
            "4/4 [==============================] - 0s 8ms/step - loss: 0.5148 - accuracy: 0.8417\n",
            "Epoch 10/30\n",
            "4/4 [==============================] - 0s 10ms/step - loss: 0.4841 - accuracy: 0.8333\n",
            "Epoch 11/30\n",
            "4/4 [==============================] - 0s 8ms/step - loss: 0.4576 - accuracy: 0.8500\n",
            "Epoch 12/30\n",
            "4/4 [==============================] - 0s 11ms/step - loss: 0.4334 - accuracy: 0.8417\n",
            "Epoch 13/30\n",
            "4/4 [==============================] - 0s 9ms/step - loss: 0.4115 - accuracy: 0.8500\n",
            "Epoch 14/30\n",
            "4/4 [==============================] - 0s 7ms/step - loss: 0.3932 - accuracy: 0.8417\n",
            "Epoch 15/30\n",
            "4/4 [==============================] - 0s 7ms/step - loss: 0.3751 - accuracy: 0.8417\n",
            "Epoch 16/30\n",
            "4/4 [==============================] - 0s 7ms/step - loss: 0.3614 - accuracy: 0.8500\n",
            "Epoch 17/30\n",
            "4/4 [==============================] - 0s 7ms/step - loss: 0.3450 - accuracy: 0.8583\n",
            "Epoch 18/30\n",
            "4/4 [==============================] - 0s 9ms/step - loss: 0.3309 - accuracy: 0.8750\n",
            "Epoch 19/30\n",
            "4/4 [==============================] - 0s 7ms/step - loss: 0.3185 - accuracy: 0.8667\n",
            "Epoch 20/30\n",
            "4/4 [==============================] - 0s 8ms/step - loss: 0.3073 - accuracy: 0.8583\n",
            "Epoch 21/30\n",
            "4/4 [==============================] - 0s 7ms/step - loss: 0.2948 - accuracy: 0.9000\n",
            "Epoch 22/30\n",
            "4/4 [==============================] - 0s 8ms/step - loss: 0.2851 - accuracy: 0.9000\n",
            "Epoch 23/30\n",
            "4/4 [==============================] - 0s 7ms/step - loss: 0.2732 - accuracy: 0.9000\n",
            "Epoch 24/30\n",
            "4/4 [==============================] - 0s 6ms/step - loss: 0.2631 - accuracy: 0.9000\n",
            "Epoch 25/30\n",
            "4/4 [==============================] - 0s 9ms/step - loss: 0.2539 - accuracy: 0.9250\n",
            "Epoch 26/30\n",
            "4/4 [==============================] - 0s 7ms/step - loss: 0.2430 - accuracy: 0.9167\n",
            "Epoch 27/30\n",
            "4/4 [==============================] - 0s 10ms/step - loss: 0.2355 - accuracy: 0.9333\n",
            "Epoch 28/30\n",
            "4/4 [==============================] - 0s 9ms/step - loss: 0.2280 - accuracy: 0.9417\n",
            "Epoch 29/30\n",
            "4/4 [==============================] - 0s 11ms/step - loss: 0.2186 - accuracy: 0.9417\n",
            "Epoch 30/30\n",
            "4/4 [==============================] - 0s 12ms/step - loss: 0.2098 - accuracy: 0.9500\n"
          ]
        },
        {
          "output_type": "execute_result",
          "data": {
            "text/plain": [
              "<keras.src.callbacks.History at 0x78307ce14970>"
            ]
          },
          "metadata": {},
          "execution_count": 114
        }
      ]
    },
    {
      "cell_type": "code",
      "source": [
        "test_loss, test_accuracy = model1.evaluate(X_test, y_test)\n",
        "\n",
        "print(f\"Test Loss: {test_loss}\")\n",
        "print(f\"Test Accuracy: {test_accuracy*100}\")\n"
      ],
      "metadata": {
        "colab": {
          "base_uri": "https://localhost:8080/"
        },
        "id": "VcQ_8O6ZgQ8l",
        "outputId": "91eaab11-f7bd-4067-9f83-204b6562a83f"
      },
      "execution_count": 115,
      "outputs": [
        {
          "output_type": "stream",
          "name": "stdout",
          "text": [
            "1/1 [==============================] - 0s 160ms/step - loss: 0.1555 - accuracy: 0.9667\n",
            "Test Loss: 0.1555030345916748\n",
            "Test Accuracy: 96.66666388511658\n"
          ]
        }
      ]
    },
    {
      "cell_type": "code",
      "source": [
        "predictions = model1.predict(X_test)\n",
        "\n",
        "pred = predictions.argmax(axis=1)\n",
        "\n",
        "print(pred)\n",
        "print(y_test)"
      ],
      "metadata": {
        "colab": {
          "base_uri": "https://localhost:8080/"
        },
        "id": "8RztTwOSgqYL",
        "outputId": "c654a285-702d-4b1c-ce9e-d8a9d9dcd06c"
      },
      "execution_count": 116,
      "outputs": [
        {
          "output_type": "stream",
          "name": "stdout",
          "text": [
            "1/1 [==============================] - 0s 101ms/step\n",
            "[1 0 2 1 1 0 1 2 1 1 2 0 0 0 0 2 2 1 1 2 0 2 0 2 2 2 2 2 0 0]\n",
            "[1 0 2 1 1 0 1 2 1 1 2 0 0 0 0 1 2 1 1 2 0 2 0 2 2 2 2 2 0 0]\n"
          ]
        }
      ]
    },
    {
      "cell_type": "code",
      "source": [
        "model2.fit(X_train, y_train, epochs=30, batch_size=32)"
      ],
      "metadata": {
        "colab": {
          "base_uri": "https://localhost:8080/"
        },
        "id": "9RZDQh4lid3O",
        "outputId": "283a4d15-b0ae-4e11-df05-4fa1b4d42216"
      },
      "execution_count": 117,
      "outputs": [
        {
          "output_type": "stream",
          "name": "stdout",
          "text": [
            "Epoch 1/30\n",
            "4/4 [==============================] - 1s 8ms/step - loss: 1.0308 - accuracy: 0.5500\n",
            "Epoch 2/30\n",
            "4/4 [==============================] - 0s 6ms/step - loss: 0.9491 - accuracy: 0.6417\n",
            "Epoch 3/30\n",
            "4/4 [==============================] - 0s 6ms/step - loss: 0.8800 - accuracy: 0.6500\n",
            "Epoch 4/30\n",
            "4/4 [==============================] - 0s 6ms/step - loss: 0.8142 - accuracy: 0.6583\n",
            "Epoch 5/30\n",
            "4/4 [==============================] - 0s 6ms/step - loss: 0.7522 - accuracy: 0.6583\n",
            "Epoch 6/30\n",
            "4/4 [==============================] - 0s 7ms/step - loss: 0.7024 - accuracy: 0.6583\n",
            "Epoch 7/30\n",
            "4/4 [==============================] - 0s 7ms/step - loss: 0.6559 - accuracy: 0.6583\n",
            "Epoch 8/30\n",
            "4/4 [==============================] - 0s 7ms/step - loss: 0.6170 - accuracy: 0.6583\n",
            "Epoch 9/30\n",
            "4/4 [==============================] - 0s 7ms/step - loss: 0.5865 - accuracy: 0.6583\n",
            "Epoch 10/30\n",
            "4/4 [==============================] - 0s 8ms/step - loss: 0.5616 - accuracy: 0.6583\n",
            "Epoch 11/30\n",
            "4/4 [==============================] - 0s 8ms/step - loss: 0.5399 - accuracy: 0.6833\n",
            "Epoch 12/30\n",
            "4/4 [==============================] - 0s 8ms/step - loss: 0.5216 - accuracy: 0.7000\n",
            "Epoch 13/30\n",
            "4/4 [==============================] - 0s 7ms/step - loss: 0.5035 - accuracy: 0.7250\n",
            "Epoch 14/30\n",
            "4/4 [==============================] - 0s 7ms/step - loss: 0.4879 - accuracy: 0.7333\n",
            "Epoch 15/30\n",
            "4/4 [==============================] - 0s 7ms/step - loss: 0.4732 - accuracy: 0.7667\n",
            "Epoch 16/30\n",
            "4/4 [==============================] - 0s 5ms/step - loss: 0.4578 - accuracy: 0.7667\n",
            "Epoch 17/30\n",
            "4/4 [==============================] - 0s 7ms/step - loss: 0.4443 - accuracy: 0.7917\n",
            "Epoch 18/30\n",
            "4/4 [==============================] - 0s 7ms/step - loss: 0.4295 - accuracy: 0.8083\n",
            "Epoch 19/30\n",
            "4/4 [==============================] - 0s 6ms/step - loss: 0.4141 - accuracy: 0.8500\n",
            "Epoch 20/30\n",
            "4/4 [==============================] - 0s 6ms/step - loss: 0.3992 - accuracy: 0.8750\n",
            "Epoch 21/30\n",
            "4/4 [==============================] - 0s 6ms/step - loss: 0.3839 - accuracy: 0.8833\n",
            "Epoch 22/30\n",
            "4/4 [==============================] - 0s 9ms/step - loss: 0.3673 - accuracy: 0.9000\n",
            "Epoch 23/30\n",
            "4/4 [==============================] - 0s 6ms/step - loss: 0.3519 - accuracy: 0.9167\n",
            "Epoch 24/30\n",
            "4/4 [==============================] - 0s 6ms/step - loss: 0.3356 - accuracy: 0.9167\n",
            "Epoch 25/30\n",
            "4/4 [==============================] - 0s 7ms/step - loss: 0.3193 - accuracy: 0.9167\n",
            "Epoch 26/30\n",
            "4/4 [==============================] - 0s 6ms/step - loss: 0.3035 - accuracy: 0.9167\n",
            "Epoch 27/30\n",
            "4/4 [==============================] - 0s 6ms/step - loss: 0.2863 - accuracy: 0.9333\n",
            "Epoch 28/30\n",
            "4/4 [==============================] - 0s 7ms/step - loss: 0.2715 - accuracy: 0.9500\n",
            "Epoch 29/30\n",
            "4/4 [==============================] - 0s 6ms/step - loss: 0.2548 - accuracy: 0.9500\n",
            "Epoch 30/30\n",
            "4/4 [==============================] - 0s 6ms/step - loss: 0.2404 - accuracy: 0.9500\n"
          ]
        },
        {
          "output_type": "execute_result",
          "data": {
            "text/plain": [
              "<keras.src.callbacks.History at 0x78307ce05870>"
            ]
          },
          "metadata": {},
          "execution_count": 117
        }
      ]
    },
    {
      "cell_type": "code",
      "source": [
        "test_loss, test_accuracy = model1.evaluate(X_test, y_test)\n",
        "\n",
        "print(f\"Test Loss: {test_loss}\")\n",
        "print(f\"Test Accuracy: {test_accuracy*100}\")"
      ],
      "metadata": {
        "id": "_95XgP8jtLi8",
        "outputId": "d77a3490-b61f-4b7c-e975-ccec9ea1f4fe",
        "colab": {
          "base_uri": "https://localhost:8080/"
        }
      },
      "execution_count": 118,
      "outputs": [
        {
          "output_type": "stream",
          "name": "stdout",
          "text": [
            "1/1 [==============================] - 0s 30ms/step - loss: 0.1555 - accuracy: 0.9667\n",
            "Test Loss: 0.1555030345916748\n",
            "Test Accuracy: 96.66666388511658\n"
          ]
        }
      ]
    },
    {
      "cell_type": "code",
      "source": [
        "predictions = model1.predict(X_test)\n",
        "\n",
        "pred = predictions.argmax(axis=1)\n",
        "\n",
        "print(pred)\n",
        "print(y_test)"
      ],
      "metadata": {
        "id": "nz_0kQKDtP77",
        "outputId": "c60d4016-4c46-46c2-943d-603b131236fc",
        "colab": {
          "base_uri": "https://localhost:8080/"
        }
      },
      "execution_count": 119,
      "outputs": [
        {
          "output_type": "stream",
          "name": "stdout",
          "text": [
            "1/1 [==============================] - 0s 39ms/step\n",
            "[1 0 2 1 1 0 1 2 1 1 2 0 0 0 0 2 2 1 1 2 0 2 0 2 2 2 2 2 0 0]\n",
            "[1 0 2 1 1 0 1 2 1 1 2 0 0 0 0 1 2 1 1 2 0 2 0 2 2 2 2 2 0 0]\n"
          ]
        }
      ]
    }
  ]
}